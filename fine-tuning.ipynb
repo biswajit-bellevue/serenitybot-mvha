{
 "cells": [
  {
   "cell_type": "markdown",
   "id": "f7b95164-6963-4658-ba23-867bfd9bf8bd",
   "metadata": {},
   "source": [
    "### Fine-Tuning"
   ]
  },
  {
   "cell_type": "markdown",
   "id": "df5cee83-c623-463b-8456-3e7b9fb39d48",
   "metadata": {},
   "source": [
    "LLM fine-tuning is a technique to adjust ceratain wights of a LLM to guide it generate tailored response for a specific task without the hassle of training and building a LLM from scratch. Fine tuning requires preparation of the task specific dataset, fine tune the model and then evaluate the performance of the fine-tuned model for qualitative and quantitative metrics.\n",
    "\n",
    "``` Prepare dataset >> Load dataset to OpenAI >> Start Fine Tuning Job >> Evaluate Metrics >> Run test```"
   ]
  },
  {
   "cell_type": "markdown",
   "id": "5484fa56-3308-49d0-9683-432e08128888",
   "metadata": {},
   "source": [
    "In the assignment, we are fine-tuning Open AI `gpt-4o-mini` model, so that it can perform the specific task of answeing `mental health` questions."
   ]
  },
  {
   "cell_type": "markdown",
   "id": "6f9023fb-878f-4256-a061-06da4de87580",
   "metadata": {},
   "source": [
    "### 1. Prepare Dataset"
   ]
  },
  {
   "cell_type": "markdown",
   "id": "374f6fa6-d9d7-47b4-b236-3ca4e371c913",
   "metadata": {},
   "source": [
    "Open AI fine tuning expects jsonl format with each line containing example with messages similar to [chat completion api format][1] (example below). It is a list of messages where each message has a role, content, and optional name. \n",
    "\n",
    "```\n",
    "{\"messages\": [{\"role\": \"system\", \"content\": \"Marv is a factual chatbot that is also sarcastic.\"}, {\"role\": \"user\", \"content\": \"What's the capital of France?\"}, {\"role\": \"assistant\", \"content\": \"Paris, as if everyone doesn't know that already.\"}]}\n",
    "{\"messages\": [{\"role\": \"system\", \"content\": \"Marv is a factual chatbot that is also sarcastic.\"}, {\"role\": \"user\", \"content\": \"Who wrote 'Romeo and Juliet'?\"}, {\"role\": \"assistant\", \"content\": \"Oh, just some guy named William Shakespeare. Ever heard of him?\"}]}\n",
    "{\"messages\": [{\"role\": \"system\", \"content\": \"Marv is a factual chatbot that is also sarcastic.\"}, {\"role\": \"user\", \"content\": \"How far is the Moon from Earth?\"}, {\"role\": \"assistant\", \"content\": \"Around 384,400 kilometers. Give or take a few, like that really matters.\"}]}\n",
    "```\n",
    "\n",
    "[1]:https://platform.openai.com/docs/api-reference/chat/createm\n",
    "[2]:https://github.com/bahree/GenAIBook/tree/main/chapters/ch09/data"
   ]
  },
  {
   "cell_type": "code",
   "execution_count": 1,
   "id": "ed9b6b32-abd9-4f9c-b875-98ba1469b671",
   "metadata": {},
   "outputs": [],
   "source": [
    "import json\n",
    "from collections import defaultdict\n",
    "import matplotlib.pyplot as plt\n",
    "\n",
    "import numpy as np\n",
    "import tiktoken  \n",
    "import os\n",
    "import pprint\n",
    "import time\n",
    "import pandas as pd\n",
    "import jsonlines\n",
    "import json\n",
    "import re\n",
    "import unicodedata"
   ]
  },
  {
   "cell_type": "code",
   "execution_count": 2,
   "id": "13fbe3ac-7f5c-4e50-9b01-73e7e596ca48",
   "metadata": {},
   "outputs": [],
   "source": [
    "# load the raw dataset\n",
    "df = pd.read_csv(\"./datasets/20200325_counsel_chat.csv\")"
   ]
  },
  {
   "cell_type": "code",
   "execution_count": 3,
   "id": "e73a1707-9ec8-46f9-9d4d-a05eedd52bd1",
   "metadata": {},
   "outputs": [
    {
     "data": {
      "text/html": [
       "<div>\n",
       "<style scoped>\n",
       "    .dataframe tbody tr th:only-of-type {\n",
       "        vertical-align: middle;\n",
       "    }\n",
       "\n",
       "    .dataframe tbody tr th {\n",
       "        vertical-align: top;\n",
       "    }\n",
       "\n",
       "    .dataframe thead th {\n",
       "        text-align: right;\n",
       "    }\n",
       "</style>\n",
       "<table border=\"1\" class=\"dataframe\">\n",
       "  <thead>\n",
       "    <tr style=\"text-align: right;\">\n",
       "      <th></th>\n",
       "      <th>Unnamed: 0</th>\n",
       "      <th>questionID</th>\n",
       "      <th>questionTitle</th>\n",
       "      <th>questionText</th>\n",
       "      <th>questionLink</th>\n",
       "      <th>topic</th>\n",
       "      <th>therapistInfo</th>\n",
       "      <th>therapistURL</th>\n",
       "      <th>answerText</th>\n",
       "      <th>upvotes</th>\n",
       "      <th>views</th>\n",
       "      <th>split</th>\n",
       "    </tr>\n",
       "  </thead>\n",
       "  <tbody>\n",
       "    <tr>\n",
       "      <th>0</th>\n",
       "      <td>0</td>\n",
       "      <td>0</td>\n",
       "      <td>Can I change my feeling of being worthless to ...</td>\n",
       "      <td>I'm going through some things with my feelings...</td>\n",
       "      <td>https://counselchat.com/questions/can-i-change...</td>\n",
       "      <td>depression</td>\n",
       "      <td>Sherry Katz, LCSWCouples and Family Therapist,...</td>\n",
       "      <td>https://counselchat.com/therapists/sherry-katz...</td>\n",
       "      <td>If everyone thinks you're worthless, then mayb...</td>\n",
       "      <td>1</td>\n",
       "      <td>2899</td>\n",
       "      <td>train</td>\n",
       "    </tr>\n",
       "    <tr>\n",
       "      <th>1</th>\n",
       "      <td>1</td>\n",
       "      <td>0</td>\n",
       "      <td>Can I change my feeling of being worthless to ...</td>\n",
       "      <td>I'm going through some things with my feelings...</td>\n",
       "      <td>https://counselchat.com/questions/can-i-change...</td>\n",
       "      <td>depression</td>\n",
       "      <td>Robin Landwehr, DBH, LPCC, NCCMental Health in...</td>\n",
       "      <td>https://counselchat.com/therapists/robin-landw...</td>\n",
       "      <td>Hello, and thank you for your question and see...</td>\n",
       "      <td>1</td>\n",
       "      <td>3514</td>\n",
       "      <td>train</td>\n",
       "    </tr>\n",
       "    <tr>\n",
       "      <th>2</th>\n",
       "      <td>2</td>\n",
       "      <td>0</td>\n",
       "      <td>Can I change my feeling of being worthless to ...</td>\n",
       "      <td>I'm going through some things with my feelings...</td>\n",
       "      <td>https://counselchat.com/questions/can-i-change...</td>\n",
       "      <td>depression</td>\n",
       "      <td>Lee KingI use an integrative approach to treat...</td>\n",
       "      <td>https://counselchat.com/therapists/lee-king</td>\n",
       "      <td>First thing I'd suggest is getting the sleep y...</td>\n",
       "      <td>0</td>\n",
       "      <td>5</td>\n",
       "      <td>train</td>\n",
       "    </tr>\n",
       "    <tr>\n",
       "      <th>3</th>\n",
       "      <td>3</td>\n",
       "      <td>0</td>\n",
       "      <td>Can I change my feeling of being worthless to ...</td>\n",
       "      <td>I'm going through some things with my feelings...</td>\n",
       "      <td>https://counselchat.com/questions/can-i-change...</td>\n",
       "      <td>depression</td>\n",
       "      <td>Shauntai Davis-YearginPersonalized, private on...</td>\n",
       "      <td>https://counselchat.com/therapists/shauntai-da...</td>\n",
       "      <td>Therapy is essential for those that are feelin...</td>\n",
       "      <td>0</td>\n",
       "      <td>31</td>\n",
       "      <td>train</td>\n",
       "    </tr>\n",
       "    <tr>\n",
       "      <th>4</th>\n",
       "      <td>4</td>\n",
       "      <td>0</td>\n",
       "      <td>Can I change my feeling of being worthless to ...</td>\n",
       "      <td>I'm going through some things with my feelings...</td>\n",
       "      <td>https://counselchat.com/questions/can-i-change...</td>\n",
       "      <td>depression</td>\n",
       "      <td>Jordan WhiteLicensed Social Worker at Oak Root...</td>\n",
       "      <td>https://counselchat.com/therapists/jordan-white</td>\n",
       "      <td>I first want to let you know that you are not ...</td>\n",
       "      <td>0</td>\n",
       "      <td>620</td>\n",
       "      <td>train</td>\n",
       "    </tr>\n",
       "  </tbody>\n",
       "</table>\n",
       "</div>"
      ],
      "text/plain": [
       "   Unnamed: 0  questionID                                      questionTitle  \\\n",
       "0           0           0  Can I change my feeling of being worthless to ...   \n",
       "1           1           0  Can I change my feeling of being worthless to ...   \n",
       "2           2           0  Can I change my feeling of being worthless to ...   \n",
       "3           3           0  Can I change my feeling of being worthless to ...   \n",
       "4           4           0  Can I change my feeling of being worthless to ...   \n",
       "\n",
       "                                        questionText  \\\n",
       "0  I'm going through some things with my feelings...   \n",
       "1  I'm going through some things with my feelings...   \n",
       "2  I'm going through some things with my feelings...   \n",
       "3  I'm going through some things with my feelings...   \n",
       "4  I'm going through some things with my feelings...   \n",
       "\n",
       "                                        questionLink       topic  \\\n",
       "0  https://counselchat.com/questions/can-i-change...  depression   \n",
       "1  https://counselchat.com/questions/can-i-change...  depression   \n",
       "2  https://counselchat.com/questions/can-i-change...  depression   \n",
       "3  https://counselchat.com/questions/can-i-change...  depression   \n",
       "4  https://counselchat.com/questions/can-i-change...  depression   \n",
       "\n",
       "                                       therapistInfo  \\\n",
       "0  Sherry Katz, LCSWCouples and Family Therapist,...   \n",
       "1  Robin Landwehr, DBH, LPCC, NCCMental Health in...   \n",
       "2  Lee KingI use an integrative approach to treat...   \n",
       "3  Shauntai Davis-YearginPersonalized, private on...   \n",
       "4  Jordan WhiteLicensed Social Worker at Oak Root...   \n",
       "\n",
       "                                        therapistURL  \\\n",
       "0  https://counselchat.com/therapists/sherry-katz...   \n",
       "1  https://counselchat.com/therapists/robin-landw...   \n",
       "2        https://counselchat.com/therapists/lee-king   \n",
       "3  https://counselchat.com/therapists/shauntai-da...   \n",
       "4    https://counselchat.com/therapists/jordan-white   \n",
       "\n",
       "                                          answerText  upvotes  views  split  \n",
       "0  If everyone thinks you're worthless, then mayb...        1   2899  train  \n",
       "1  Hello, and thank you for your question and see...        1   3514  train  \n",
       "2  First thing I'd suggest is getting the sleep y...        0      5  train  \n",
       "3  Therapy is essential for those that are feelin...        0     31  train  \n",
       "4  I first want to let you know that you are not ...        0    620  train  "
      ]
     },
     "execution_count": 3,
     "metadata": {},
     "output_type": "execute_result"
    }
   ],
   "source": [
    "# veiw few records\n",
    "df.head()"
   ]
  },
  {
   "cell_type": "markdown",
   "id": "01beaea2-9f70-4638-87cd-fcc79b7db2ff",
   "metadata": {},
   "source": [
    "The dataset have some large text, and in order to keep the cost of fine tuning low the records having very large text will be dropped. Before dropping such text it is better to see the distribution of lengths to make a good estimate on how long text should kept for processing."
   ]
  },
  {
   "cell_type": "code",
   "execution_count": 4,
   "id": "622cb5b8-1a9a-4694-9d6a-2e56e29bdee5",
   "metadata": {},
   "outputs": [],
   "source": [
    "def clean_unicode(text):\n",
    "    regex_uniode_clean = re.sub(u'\\xa0', lambda match: \"\", text)\n",
    "    return re.sub(f\"[\\\\r\\\\t\\\\n]\", lambda match: \" \" , regex_uniode_clean)"
   ]
  },
  {
   "cell_type": "code",
   "execution_count": 5,
   "id": "2e92e00a-ab96-4a02-84ae-f72c850914f6",
   "metadata": {},
   "outputs": [],
   "source": [
    "#clean unicode chars\n",
    "df[\"questionText\"] = df[\"questionText\"].apply(clean_unicode)\n",
    "df[\"answerText\"] = df[\"answerText\"].apply(clean_unicode)"
   ]
  },
  {
   "cell_type": "code",
   "execution_count": 6,
   "id": "27cdd98c-b180-4dcc-a900-986b8f095172",
   "metadata": {},
   "outputs": [],
   "source": [
    "#claculate the length of texts\n",
    "df[\"question_length\"] = df[\"questionText\"].str.len()\n",
    "df[\"answer_length\"] = df[\"answerText\"].str.len()"
   ]
  },
  {
   "cell_type": "code",
   "execution_count": 7,
   "id": "49ec5f78-ca03-4c31-b5a4-a08f35724f17",
   "metadata": {},
   "outputs": [
    {
     "name": "stdout",
     "output_type": "stream",
     "text": [
      "Five point summary of question_length\n",
      " count    2129.000000\n",
      "mean      274.907938\n",
      "std       233.581561\n",
      "min        26.000000\n",
      "25%       147.000000\n",
      "50%       232.000000\n",
      "75%       348.000000\n",
      "max      2702.000000\n",
      "Name: question_length, dtype: float64\n"
     ]
    },
    {
     "data": {
      "image/png": "[encoded data removed]",
      "text/plain": [
       "<Figure size 640x480 with 1 Axes>"
      ]
     },
     "metadata": {},
     "output_type": "display_data"
    },
    {
     "name": "stdout",
     "output_type": "stream",
     "text": [
      "Five point summary of answer_length\n",
      " count    2129.000000\n",
      "mean      970.705026\n",
      "std       666.556980\n",
      "min        10.000000\n",
      "25%       513.000000\n",
      "50%       800.000000\n",
      "75%      1225.000000\n",
      "max      5491.000000\n",
      "Name: answer_length, dtype: float64\n"
     ]
    },
    {
     "data": {
      "image/png": "[encoded data removed]",
      "text/plain": [
       "<Figure size 640x480 with 1 Axes>"
      ]
     },
     "metadata": {},
     "output_type": "display_data"
    }
   ],
   "source": [
    "# plot the ditribution of lengths\n",
    "for cols in [\"question_length\", \"answer_length\"]:\n",
    "    df[cols].hist(bins=40)\n",
    "    print(f\"Five point summary of {cols}\\n {df[cols].describe()}\")\n",
    "    plt.title(f\"Histogram of {cols}\")\n",
    "    plt.show()"
   ]
  },
  {
   "cell_type": "markdown",
   "id": "e2fc9658-b7d0-456b-8c96-c64748538c5e",
   "metadata": {},
   "source": [
    "Both the Question and the Answer charcter length is heavily right skewed. It will be a good estimate to discard records beyond 1.5IQR of Q3, i.e. Similarly very small responses such as less than $100$ characters may not be good response to the questions and its is better to discard those from fine tuning.\n",
    "```\n",
    "lower limit: 100\n",
    "upper limit: Q3 + 1.5IQR\n",
    "\n",
    "```"
   ]
  },
  {
   "cell_type": "code",
   "execution_count": 8,
   "id": "77a3d4e5-ac5c-4fc9-acfb-75893717f4a0",
   "metadata": {},
   "outputs": [],
   "source": [
    "# function to drop large text length records\n",
    "def drop_large_txt_records(df):\n",
    "    for cols in [\"question_length\", \"answer_length\"]:\n",
    "        q1 = df[cols].quantile(0.25)\n",
    "        q3 = df[cols].quantile(0.75)\n",
    "        IQR = q3-q1\n",
    "        upper_limit = q3 + 1.5*IQR\n",
    "        print(f\"Upper Limit for {cols}: {upper_limit}\")\n",
    "        print(f\"Shape before dropping records: {df.shape}\")\n",
    "        df = df.drop(df[df[cols] < 100].index)\n",
    "        df = df.drop(df[df[cols] > upper_limit].index)\n",
    "        print(f\"Shape after dropping records: {df.shape}\")\n",
    "    return df"
   ]
  },
  {
   "cell_type": "code",
   "execution_count": 9,
   "id": "092f5045-7a0f-4702-88ab-d3c238f6dc2a",
   "metadata": {},
   "outputs": [
    {
     "name": "stdout",
     "output_type": "stream",
     "text": [
      "Upper Limit for question_length: 649.5\n",
      "Shape before dropping records: (2129, 14)\n",
      "Shape after dropping records: (1697, 14)\n",
      "Upper Limit for answer_length: 2283.0\n",
      "Shape before dropping records: (1697, 14)\n",
      "Shape after dropping records: (1600, 14)\n"
     ]
    }
   ],
   "source": [
    "df_copy = df.copy()\n",
    "\n",
    "df_no_outliers = drop_large_txt_records(df_copy)"
   ]
  },
  {
   "cell_type": "code",
   "execution_count": 10,
   "id": "2aee76e3-70bc-4912-8d6e-10106646a8c9",
   "metadata": {},
   "outputs": [
    {
     "name": "stdout",
     "output_type": "stream",
     "text": [
      "Five point summary of question_length\n",
      " count    1600.000000\n",
      "mean      272.171875\n",
      "std       117.977393\n",
      "min       102.000000\n",
      "25%       167.000000\n",
      "50%       256.000000\n",
      "75%       352.250000\n",
      "max       644.000000\n",
      "Name: question_length, dtype: float64\n"
     ]
    },
    {
     "data": {
      "image/png": "[encoded data removed]",
      "text/plain": [
       "<Figure size 640x480 with 1 Axes>"
      ]
     },
     "metadata": {},
     "output_type": "display_data"
    },
    {
     "name": "stdout",
     "output_type": "stream",
     "text": [
      "Five point summary of answer_length\n",
      " count    1600.000000\n",
      "mean      877.372500\n",
      "std       469.685544\n",
      "min       101.000000\n",
      "25%       519.750000\n",
      "50%       786.000000\n",
      "75%      1153.500000\n",
      "max      2283.000000\n",
      "Name: answer_length, dtype: float64\n"
     ]
    },
    {
     "data": {
      "image/png": "[encoded data removed]",
      "text/plain": [
       "<Figure size 640x480 with 1 Axes>"
      ]
     },
     "metadata": {},
     "output_type": "display_data"
    }
   ],
   "source": [
    "# Check distribution after removing outliers\n",
    "for cols in [\"question_length\", \"answer_length\"]:\n",
    "    df_no_outliers[cols].hist(bins=40)\n",
    "    print(f\"Five point summary of {cols}\\n {df_no_outliers[cols].describe()}\")\n",
    "    plt.title(f\"Histogram of {cols}\")\n",
    "    plt.show()"
   ]
  },
  {
   "cell_type": "markdown",
   "id": "b4b98474-5382-438f-9e1f-2417f19c68d2",
   "metadata": {},
   "source": [
    "The data looks much better after dopping the unreasonable large length and small length records."
   ]
  },
  {
   "cell_type": "markdown",
   "id": "1433a099-8040-46a1-9d32-6c95041e93a8",
   "metadata": {},
   "source": [
    "**In order to keep cost low, a sample of about ~$300$ records is used in fine-tuning, instead of all $1600$ records. A machine learning approah is used to sample the record instead od naive random sampling. `K-means` clustering method is used to create clusters of the records based on the similarilty of the mental health questions and then random samples are picked from each clusters. This ensures that the fine-tuning examples have a good mix of various different kind of mental health questions.**"
   ]
  },
  {
   "cell_type": "code",
   "execution_count": 11,
   "id": "118fd3ec-c127-475f-9f76-358724324b1d",
   "metadata": {},
   "outputs": [],
   "source": [
    "# Add unique id for each rows\n",
    "df_no_outliers[\"id\"] = df_no_outliers.index"
   ]
  },
  {
   "cell_type": "markdown",
   "id": "d3a13c00-730c-4714-9d28-275828eef247",
   "metadata": {},
   "source": [
    "###### Standardization for preprocessing text needed to generate better features for fitting K-means model"
   ]
  },
  {
   "cell_type": "code",
   "execution_count": 12,
   "id": "d4cb982f-d99b-402b-bec6-14584af584e1",
   "metadata": {},
   "outputs": [],
   "source": [
    "# import modules for text preprocessing\n",
    "from nltk.corpus import stopwords\n",
    "from nltk.tokenize import word_tokenize\n",
    "from nltk.stem import WordNetLemmatizer\n",
    "import re\n",
    "import string"
   ]
  },
  {
   "cell_type": "code",
   "execution_count": 13,
   "id": "3be56b4b-cc7f-498e-a2db-490cdd8d7cc7",
   "metadata": {},
   "outputs": [],
   "source": [
    "# this function removes stopwords from input text\n",
    "    \n",
    "def custom_standardization_fn(text):\n",
    "    try:\n",
    "        lowercase_string = text.lower()\n",
    "    except AttributeError:\n",
    "        lowercase_string=\"\"\n",
    "        return lowercase_string\n",
    "    else:\n",
    "        regex_punc = re.sub(\n",
    "            f\"[0-9{re.escape(string.punctuation)}]\", lambda match: \"\" , lowercase_string)\n",
    "        regex_clean = re.sub(\n",
    "            f\"[\\\\r\\\\t\\\\n]\", lambda match: \" \" , regex_punc)\n",
    "    \n",
    "        stop_words = stopwords.words(\"english\")\n",
    "        tokenized_words = word_tokenize(regex_clean)\n",
    "        stop_word_removed_tokens = [word for word in tokenized_words if word not in stop_words]\n",
    "        stopword_removed_string = \" \".join([word for word in tokenized_words if word not in stop_words])\n",
    "        # lemmatize\n",
    "        wnl = WordNetLemmatizer()\n",
    "        return \" \".join([wnl.lemmatize(words) for words in stop_word_removed_tokens])"
   ]
  },
  {
   "cell_type": "code",
   "execution_count": 14,
   "id": "0fa59f54-743a-447b-aa60-73ad012b67b9",
   "metadata": {},
   "outputs": [],
   "source": [
    "df_filtered = df_no_outliers.copy()"
   ]
  },
  {
   "cell_type": "code",
   "execution_count": 15,
   "id": "32565a48-eb75-43e6-9230-516cf102d6ae",
   "metadata": {},
   "outputs": [],
   "source": [
    "# Apply text preprocessing\n",
    "df_no_outliers[\"questionText\"] = df_no_outliers[\"questionText\"].apply(custom_standardization_fn)\n",
    "df_no_outliers[\"answerText\"] = df_no_outliers[\"answerText\"].apply(custom_standardization_fn)"
   ]
  },
  {
   "cell_type": "code",
   "execution_count": 18,
   "id": "78c89b6f-7fd2-45d5-b56b-4de7a3f468ad",
   "metadata": {},
   "outputs": [
    {
     "name": "stdout",
     "output_type": "stream",
     "text": [
      "Number of records in the dataset: 1600\n"
     ]
    }
   ],
   "source": [
    "print(f\"Number of records in the dataset: {df_no_outliers.shape[0]}\")"
   ]
  },
  {
   "cell_type": "markdown",
   "id": "06f4bb08-af32-4113-919a-3c5e806e0c06",
   "metadata": {},
   "source": []
  },
  {
   "cell_type": "markdown",
   "id": "0fd7155b-6e28-4fcc-a7a1-03c5eddb904b",
   "metadata": {},
   "source": [
    "##### Perform K means Clustering"
   ]
  },
  {
   "cell_type": "code",
   "execution_count": 19,
   "id": "0453318d-0e06-4eb4-bdbe-48be8febed04",
   "metadata": {},
   "outputs": [
    {
     "name": "stderr",
     "output_type": "stream",
     "text": [
      "/Library/Frameworks/Python.framework/Versions/3.12/lib/python3.12/site-packages/tqdm/auto.py:21: TqdmWarning: IProgress not found. Please update jupyter and ipywidgets. See https://ipywidgets.readthedocs.io/en/stable/user_install.html\n",
      "  from .autonotebook import tqdm as notebook_tqdm\n"
     ]
    }
   ],
   "source": [
    "from sklearn.cluster import KMeans\n",
    "from sentence_transformers import SentenceTransformer\n",
    "\n",
    "os.environ[\"TOKENIZERS_PARALLELISM\"] = \"false\""
   ]
  },
  {
   "cell_type": "markdown",
   "id": "3ea9f76d-91b5-4db6-a037-d54a5a237500",
   "metadata": {},
   "source": [
    "Sentence embedding is used to generate features at sentence level for the clustering task. Sentence Transformer model `all-MiniLM-L6-v2` is used to generate the sentence embeddings from the mental health questions. This ensures that the feature for clustering task represnt the semantic similarity based on the mental health questions at sentence level."
   ]
  },
  {
   "cell_type": "code",
   "execution_count": 20,
   "id": "804833c8-33eb-497f-a7d2-50dd1a95f53a",
   "metadata": {},
   "outputs": [],
   "source": [
    "embedder = SentenceTransformer(\"all-MiniLM-L6-v2\")"
   ]
  },
  {
   "cell_type": "code",
   "execution_count": 21,
   "id": "b85c43cd-1747-4e99-826e-ca9692361dbd",
   "metadata": {},
   "outputs": [],
   "source": [
    "# generate sentence embeddings for mental health questions\n",
    "corpus = []\n",
    "for row in df_no_outliers.iterrows():\n",
    "    corpus.append(f'id:{row[1][\"id\"]}text:{row[1][\"questionText\"]}')\n",
    "corpus_embeddings_kmeans = embedder.encode(corpus)"
   ]
  },
  {
   "cell_type": "markdown",
   "id": "71c0e960-2c4d-43b2-a44a-fbad0d626650",
   "metadata": {},
   "source": [
    "In k-means clustering finding the optimum value of `k` is critical to get good balance of clusters. `Within-Cluster Sum of Squares(WCSS)` is a common metric used to identify a good value of `k`. WCSS is plotted against different values of `k` and `k value` near the elbow point is generally considered an optimum value of `k`."
   ]
  },
  {
   "cell_type": "code",
   "execution_count": 22,
   "id": "60cae30b-a6cd-4a56-a780-ecd8fd272ab5",
   "metadata": {},
   "outputs": [],
   "source": [
    "# Perform kmean clustering for k starting from 1 to 50\n",
    "num_clusters = 50\n",
    "inertia = []\n",
    "for k in range(1, num_clusters):\n",
    "    clustering_model_kmean = KMeans(n_clusters=k)\n",
    "    clustering_model_kmean.fit(corpus_embeddings_kmeans)\n",
    "    # cluster_assignment = clustering_model.labels_\n",
    "    inertia.append(clustering_model_kmean.inertia_)"
   ]
  },
  {
   "cell_type": "code",
   "execution_count": 23,
   "id": "e8f7123f-6afc-4b5e-864a-09db5c10d843",
   "metadata": {},
   "outputs": [
    {
     "data": {
      "image/png": "[encoded data removed]",
      "text/plain": [
       "<Figure size 640x480 with 1 Axes>"
      ]
     },
     "metadata": {},
     "output_type": "display_data"
    }
   ],
   "source": [
    "plt.plot(range(1, num_clusters), inertia, marker='o')\n",
    "plt.title(\"Elbow method to find best k value\")\n",
    "plt.xlabel(\"k\")\n",
    "plt.ylabel(\"WCSS\")\n",
    "plt.show()"
   ]
  },
  {
   "cell_type": "markdown",
   "id": "64b0b9e2-26c9-4132-a167-3a34a6fb61d5",
   "metadata": {},
   "source": [
    "`k=15` seems like the elbow point in the above curve"
   ]
  },
  {
   "cell_type": "code",
   "execution_count": 27,
   "id": "599da398-9b28-4875-8660-cbba76992624",
   "metadata": {},
   "outputs": [],
   "source": [
    "# Perform kmean clustering with k=13\n",
    "num_clusters = 13\n",
    "clustering_model_kmean = KMeans(n_clusters=num_clusters)\n",
    "clustering_model_kmean.fit(corpus_embeddings_kmeans)\n",
    "cluster_assignment_kmeans = clustering_model_kmean.labels_"
   ]
  },
  {
   "cell_type": "markdown",
   "id": "456429ed-3b4d-47b9-bb1b-0d052e586cac",
   "metadata": {},
   "source": [
    "Group the sentences together based on its clusters."
   ]
  },
  {
   "cell_type": "code",
   "execution_count": 28,
   "id": "389a4dd5-e120-4857-bd14-dc17becffc56",
   "metadata": {},
   "outputs": [],
   "source": [
    "clustered_sentences = [[] for i in range(num_clusters)]\n",
    "for sentence_id, cluster_id in enumerate(cluster_assignment_kmeans):\n",
    "    clustered_sentences[cluster_id].append(corpus[sentence_id])"
   ]
  },
  {
   "cell_type": "code",
   "execution_count": 29,
   "id": "41ae6ba2-7c20-4e24-a2f9-e4c75ae27986",
   "metadata": {},
   "outputs": [
    {
     "name": "stdout",
     "output_type": "stream",
     "text": [
      "Cluster  1\n",
      "117\n",
      "Cluster  2\n",
      "189\n",
      "Cluster  3\n",
      "167\n",
      "Cluster  4\n",
      "92\n",
      "Cluster  5\n",
      "94\n",
      "Cluster  6\n",
      "48\n",
      "Cluster  7\n",
      "187\n",
      "Cluster  8\n",
      "114\n",
      "Cluster  9\n",
      "46\n",
      "Cluster  10\n",
      "153\n",
      "Cluster  11\n",
      "94\n",
      "Cluster  12\n",
      "231\n",
      "Cluster  13\n",
      "68\n"
     ]
    }
   ],
   "source": [
    "# Display number of responses in each clusters\n",
    "for i, cluster in enumerate(clustered_sentences):\n",
    "    print(\"Cluster \", i + 1)\n",
    "    print(len(cluster))\n"
   ]
  },
  {
   "cell_type": "markdown",
   "id": "3f3df24f-bb02-4f8b-afe1-102998c37090",
   "metadata": {},
   "source": [
    "From the $13$ clusters randomly choose responses to meet a maximum of $300$ records"
   ]
  },
  {
   "cell_type": "code",
   "execution_count": 30,
   "id": "c9b59ae7-2b43-4ccd-9c81-70b2668d4312",
   "metadata": {},
   "outputs": [],
   "source": [
    "MAX_RECORDS = 300\n",
    "num_samples = (MAX_RECORDS//num_clusters) + 1"
   ]
  },
  {
   "cell_type": "code",
   "execution_count": 31,
   "id": "1069afdb-bc94-4f2a-a28d-62d8b269a4eb",
   "metadata": {},
   "outputs": [],
   "source": [
    "# perform random sampling within each clusters to get a mix of different kinds of mental health questions\n",
    "np.random.seed(42)\n",
    "selected_responses = np.zeros((num_clusters,num_samples))\n",
    "for i,each_cluster in enumerate(clustered_sentences):\n",
    "    selected_responses[i] = (list(map(lambda x: x.split(\"text:\")[0].split(\"id:\")[-1], np.random.choice(each_cluster,num_samples,replace=False))))"
   ]
  },
  {
   "cell_type": "code",
   "execution_count": 32,
   "id": "9a1fc145-5d85-448b-8901-7845d630ca0d",
   "metadata": {},
   "outputs": [],
   "source": [
    "df_response_ids = pd.DataFrame(selected_responses.astype(\"int\").flatten(),columns=[\"id\"])"
   ]
  },
  {
   "cell_type": "code",
   "execution_count": 33,
   "id": "b0535598-d936-4f82-8b70-1046ce790b52",
   "metadata": {},
   "outputs": [
    {
     "name": "stdout",
     "output_type": "stream",
     "text": [
      "Number of responses in resulting dataframe after selection: 312\n"
     ]
    }
   ],
   "source": [
    "print(f\"Number of responses in resulting dataframe after selection: {df_response_ids.shape[0]}\") "
   ]
  },
  {
   "cell_type": "markdown",
   "id": "0dc480fb-f70d-4c94-bd01-6db82c65fcbb",
   "metadata": {},
   "source": [
    "Create a dataframe with the corresponding question and answers set with sampled $312$ records"
   ]
  },
  {
   "cell_type": "code",
   "execution_count": 34,
   "id": "76416a67-7fee-4a2b-84e3-0c5892d3e218",
   "metadata": {},
   "outputs": [],
   "source": [
    "df_preprocesed = pd.merge(df_filtered,df_response_ids,how=\"inner\",on=\"id\").loc[0:,[\"questionText\", \"answerText\"]]"
   ]
  },
  {
   "cell_type": "code",
   "execution_count": 35,
   "id": "9a070475-7f82-45f6-baed-8bb7f0e15137",
   "metadata": {},
   "outputs": [
    {
     "data": {
      "text/html": [
       "<div>\n",
       "<style scoped>\n",
       "    .dataframe tbody tr th:only-of-type {\n",
       "        vertical-align: middle;\n",
       "    }\n",
       "\n",
       "    .dataframe tbody tr th {\n",
       "        vertical-align: top;\n",
       "    }\n",
       "\n",
       "    .dataframe thead th {\n",
       "        text-align: right;\n",
       "    }\n",
       "</style>\n",
       "<table border=\"1\" class=\"dataframe\">\n",
       "  <thead>\n",
       "    <tr style=\"text-align: right;\">\n",
       "      <th></th>\n",
       "      <th>questionText</th>\n",
       "      <th>answerText</th>\n",
       "    </tr>\n",
       "  </thead>\n",
       "  <tbody>\n",
       "    <tr>\n",
       "      <th>0</th>\n",
       "      <td>I'm going through some things with my feelings...</td>\n",
       "      <td>I first want to let you know that you are not ...</td>\n",
       "    </tr>\n",
       "    <tr>\n",
       "      <th>1</th>\n",
       "      <td>I'm going through some things with my feelings...</td>\n",
       "      <td>Heck, sure thing, hun!Feelings of 'depression'...</td>\n",
       "    </tr>\n",
       "    <tr>\n",
       "      <th>2</th>\n",
       "      <td>I'm going through some things with my feelings...</td>\n",
       "      <td>It sounds like you may be putting yourself las...</td>\n",
       "    </tr>\n",
       "    <tr>\n",
       "      <th>3</th>\n",
       "      <td>I'm going through some things with my feelings...</td>\n",
       "      <td>I'm glad you are interested in changing your f...</td>\n",
       "    </tr>\n",
       "    <tr>\n",
       "      <th>4</th>\n",
       "      <td>I'm going through some things with my feelings...</td>\n",
       "      <td>You have several things going on here. The sle...</td>\n",
       "    </tr>\n",
       "  </tbody>\n",
       "</table>\n",
       "</div>"
      ],
      "text/plain": [
       "                                        questionText  \\\n",
       "0  I'm going through some things with my feelings...   \n",
       "1  I'm going through some things with my feelings...   \n",
       "2  I'm going through some things with my feelings...   \n",
       "3  I'm going through some things with my feelings...   \n",
       "4  I'm going through some things with my feelings...   \n",
       "\n",
       "                                          answerText  \n",
       "0  I first want to let you know that you are not ...  \n",
       "1  Heck, sure thing, hun!Feelings of 'depression'...  \n",
       "2  It sounds like you may be putting yourself las...  \n",
       "3  I'm glad you are interested in changing your f...  \n",
       "4  You have several things going on here. The sle...  "
      ]
     },
     "execution_count": 35,
     "metadata": {},
     "output_type": "execute_result"
    }
   ],
   "source": [
    "# view few records\n",
    "df_preprocesed.head()"
   ]
  },
  {
   "cell_type": "markdown",
   "id": "0eb1b35f-8be6-4b42-af09-9f515c6c1b9f",
   "metadata": {},
   "source": [
    "Perform traning and validation split for use in fine-tuning"
   ]
  },
  {
   "cell_type": "code",
   "execution_count": 36,
   "id": "540febba-e7e7-45eb-acd1-1196d62ecf39",
   "metadata": {},
   "outputs": [],
   "source": [
    "val_df = df_preprocesed.sample(frac=0.05, random_state=42)"
   ]
  },
  {
   "cell_type": "code",
   "execution_count": 37,
   "id": "077e9a3a-2a74-4a75-8cd2-0a1531dc7067",
   "metadata": {},
   "outputs": [],
   "source": [
    "train_df = df_preprocesed.drop(val_df.index)"
   ]
  },
  {
   "cell_type": "code",
   "execution_count": 38,
   "id": "e2844654-813f-4c15-a313-9d230732f515",
   "metadata": {},
   "outputs": [
    {
     "data": {
      "text/plain": [
       "((296, 2), (16, 2))"
      ]
     },
     "execution_count": 38,
     "metadata": {},
     "output_type": "execute_result"
    }
   ],
   "source": [
    "train_df.shape, val_df.shape"
   ]
  },
  {
   "cell_type": "markdown",
   "id": "fcf4304a-de7d-44bf-b650-c98bda6057db",
   "metadata": {},
   "source": [
    "#### Create the Training and Validation Files in the OpenAI API format"
   ]
  },
  {
   "cell_type": "code",
   "execution_count": 39,
   "id": "637c1f4c-869b-4644-a397-7a6c060d8229",
   "metadata": {},
   "outputs": [],
   "source": [
    "training_data_file = \"./datasets/training_file.jsonl\"\n",
    "validation_data_file = \"./datasets/validation_file.jsonl\""
   ]
  },
  {
   "cell_type": "code",
   "execution_count": 40,
   "id": "34a9e324-71dd-4e29-a1fb-bbb7986d82c5",
   "metadata": {},
   "outputs": [
    {
     "name": "stdout",
     "output_type": "stream",
     "text": [
      "Token encoding for gpt-4o-mini is : o200k_base\n"
     ]
    }
   ],
   "source": [
    "# get the encoding for gpt-4o-mini-2024-07-18\n",
    "encoding = tiktoken.encoding_for_model(\"gpt-4o-mini-2024-07-18\")\n",
    "print(f\"Token encoding for gpt-4o-mini is : {encoding.name}\")"
   ]
  },
  {
   "cell_type": "code",
   "execution_count": 41,
   "id": "42d266ad-453d-4f12-be90-73be43fd3bd4",
   "metadata": {},
   "outputs": [],
   "source": [
    "def create_jsonl_file(file_path,df):\n",
    "    system_message = \"You are an assistant that helps answer mental health question.\"\n",
    "    system_message_tokens = len(encoding.encode(system_message))\n",
    "    with jsonlines.open(file_path,mode=\"w\") as writer:\n",
    "        for row in df.iterrows():\n",
    "            message_dict = {\n",
    "                \"messages\":[\n",
    "                    {\"role\":\"system\",\"content\":system_message},\n",
    "                    {\"role\":\"user\",\"content\":row[1][\"questionText\"]},\n",
    "                    {\"role\": \"assistant\", \"content\":row[1][\"answerText\"]}\n",
    "                ]\n",
    "            }\n",
    "            writer.write((message_dict))"
   ]
  },
  {
   "cell_type": "code",
   "execution_count": 42,
   "id": "ac4ec92d-b710-4974-8b84-e022e78ad824",
   "metadata": {},
   "outputs": [],
   "source": [
    "create_jsonl_file(training_data_file, train_df)\n",
    "create_jsonl_file(validation_data_file, val_df)"
   ]
  },
  {
   "cell_type": "markdown",
   "id": "516c9f42-2401-4d5b-9623-bfcd7a9b85df",
   "metadata": {},
   "source": [
    "##### Token counts and Cost of fine-tuning"
   ]
  },
  {
   "cell_type": "code",
   "execution_count": 43,
   "id": "ddd5dee0-7959-4fd9-a85b-f768ab69150e",
   "metadata": {},
   "outputs": [],
   "source": [
    "MAX_TOKENS = 65536\n",
    "\n",
    "TARGET_EPOCHS = 3\n",
    "MIN_TARGET_EXAMPLES = 100\n",
    "MAX_TARGET_EXAMPLES = 1000\n",
    "MIN_DEFAULT_EPOCHS = 1\n",
    "MAX_DEFAULT_EPOCHS = 5"
   ]
  },
  {
   "cell_type": "markdown",
   "id": "862245db-74e6-43d5-aa7c-1d28fa9ae8b0",
   "metadata": {},
   "source": [
    "##### Perform Basic data check"
   ]
  },
  {
   "cell_type": "code",
   "execution_count": 44,
   "id": "78ed5716-7dbf-4fe8-ac80-6e308e9810e4",
   "metadata": {},
   "outputs": [],
   "source": [
    "def basic_checks(data_file):\n",
    "    try:\n",
    "        with open(data_file, \"r\", encoding=\"utf-8\") as f:\n",
    "            dataset = [json.loads(line) for line in f]\n",
    "\n",
    "        print(f\"Basic checks for file {data_file}:\")\n",
    "        print(\"Count of examples in dataset:\", len(dataset))\n",
    "        print(\"First example:\")\n",
    "        for message in dataset[0][\"messages\"]:\n",
    "            print(message)\n",
    "        return True\n",
    "    except FileNotFoundError as e:\n",
    "        print(f\"File not found error occurred in file {data_file}: {e}\")\n",
    "        return False\n",
    "    except json.JSONDecodeError as e:\n",
    "        print(f\"JSON decoding error occurred in file {data_file}: {e}\")\n",
    "        return False\n",
    "    except Exception as e:\n",
    "        print(f\"An error occurred in file {data_file}: {e}\")\n",
    "        return False"
   ]
  },
  {
   "cell_type": "code",
   "execution_count": 45,
   "id": "e8d9efbb-f69c-456e-9726-14f81c3967e6",
   "metadata": {},
   "outputs": [
    {
     "name": "stdout",
     "output_type": "stream",
     "text": [
      "Basic checks for file ./datasets/training_file.jsonl:\n",
      "Count of examples in dataset: 296\n",
      "First example:\n",
      "{'role': 'system', 'content': 'You are an assistant that helps answer mental health question.'}\n",
      "{'role': 'user', 'content': \"I'm going through some things with my feelings and myself. I barely sleep and I do nothing but think about how I'm worthless and how I shouldn't be here.    I've never tried or contemplated suicide. I've always wanted to fix my issues, but I never get around to it.    How can I change my feeling of being worthless to everyone?\"}\n",
      "{'role': 'assistant', 'content': 'I first want to let you know that you are not alone in your feelings and there is always someone there to help. You can always change your feelings and change your way of thinking by being open to trying to change. You can always make yourself available to learning new things or volunteering so that you can make a purpose for yourself.'}\n",
      "Basic checks for file ./datasets/validation_file.jsonl:\n",
      "Count of examples in dataset: 16\n",
      "First example:\n",
      "{'role': 'system', 'content': 'You are an assistant that helps answer mental health question.'}\n",
      "{'role': 'user', 'content': \"I’ve been in a long distance relationship with my girlfriend for just over a year. This past week she admitted to me that she has feelings for another guy. She says it’s “just a crush” but I don't know how to cope with it.    How should I deal with this?\"}\n",
      "{'role': 'assistant', 'content': \"Did your girlfriend tell you her reason to tell you about the new person?Your feelings of insecurity is natural because you don't know where the crush fits into her life.Since any long-lasting relationship in which both people thrive, means each partner freely speaks their mind and will be listened and responded, then your current situation is a good one to start these foundations of talking with one another.Tell your girlfriend whatever is on your mind regarding her crush.  As your trusted partner, theoretically she would like to know all about how you feel.Keep the expectation that talking about anything at all, is the best sign of closeness.Once you learn more about this crush you can decide what, if anything to do differently in your relationship.\"}\n"
     ]
    }
   ],
   "source": [
    "if not basic_checks(training_data_file):\n",
    "    print(f\"Error in Trainingfile {training_data_file}\")\n",
    "if not basic_checks(validation_data_file):\n",
    "    print(f\"Error in Validation file {validation_data_file}\")"
   ]
  },
  {
   "cell_type": "markdown",
   "id": "038e260b-acb2-471a-8f81-45bdbebd8145",
   "metadata": {},
   "source": [
    "The training and validation files have passed the check for `jsonl` format "
   ]
  },
  {
   "cell_type": "markdown",
   "id": "3d0668fc-6fcd-4320-b250-d48ea058b9da",
   "metadata": {},
   "source": [
    "##### Perform data format check of training and validation examples"
   ]
  },
  {
   "cell_type": "code",
   "execution_count": 46,
   "id": "432e2de3-3d2e-43eb-81ef-8741f9d6b4eb",
   "metadata": {},
   "outputs": [],
   "source": [
    "def format_checks(dataset, filename):\n",
    "    # Initialize a dictionary, used to track format errors\n",
    "    format_errors = defaultdict(int)\n",
    "\n",
    "    # Iterate over each example in the dataset\n",
    "    for ex in dataset:\n",
    "        # Check if the example is a dictionary, if not \n",
    "        # increment the corresponding error count\n",
    "        if not isinstance(ex, dict):\n",
    "            format_errors[\"data_type\"] += 1\n",
    "            continue\n",
    "\n",
    "        # Check if the example has a \"messages\" key, \n",
    "        # if not increment the corresponding error count\n",
    "        messages = ex.get(\"messages\", None)\n",
    "        if not messages:\n",
    "            format_errors[\"missing_messages_list\"] += 1\n",
    "            continue\n",
    "\n",
    "        # Iterate over each message in the messages list\n",
    "        for message in messages:\n",
    "            # Check if the message has \"role\" and \"content\" keys,\n",
    "            # if not increment the corresponding error count\n",
    "            if \"role\" not in message or \"content\" not in message:\n",
    "                format_errors[\"message_missing_key\"] += 1\n",
    "\n",
    "            # Check if the message has any unrecognized keys,\n",
    "            # if so increment the corresponding error count\n",
    "            if any(k not in (\"role\", \"content\", \"name\", \"function_call\") for k in message):\n",
    "                format_errors[\"message_unrecognized_key\"] += 1\n",
    "\n",
    "            # Check if the role of the message is one of the recognized\n",
    "            # roles, if not increment the corresponding error count\n",
    "            if message.get(\"role\", None) not in (\n",
    "                \"system\",\n",
    "                \"user\",\n",
    "                \"assistant\",\n",
    "                \"function\",\n",
    "            ):\n",
    "                format_errors[\"unrecognized_role\"] += 1\n",
    "\n",
    "            # Check if the message has either content or a function call,\n",
    "            # and if the content is a string, if not increment the\n",
    "            # corresponding error count\n",
    "            content = message.get(\"content\", None)\n",
    "            function_call = message.get(\"function_call\", None)\n",
    "            if (not content and not function_call) or not isinstance(content, str):\n",
    "                format_errors[\"missing_content\"] += 1\n",
    "\n",
    "        # Check if there is at least one message with the role \"assistant\",\n",
    "        # if not increment the corresponding error count\n",
    "        if not any(message.get(\"role\", None) == \"assistant\" for message in messages):\n",
    "            format_errors[\"example_missing_assistant_message\"] += 1\n",
    "\n",
    "    # If there are any format errors, print them and return False\n",
    "    if format_errors:\n",
    "        print(f\"Formatting errors found in file {filename}:\")\n",
    "        for k, v in format_errors.items():\n",
    "            print(f\"{k}: {v}\")\n",
    "        return False\n",
    "    print(f\"No formatting errors found in file {filename}\")\n",
    "    return True"
   ]
  },
  {
   "cell_type": "code",
   "execution_count": 47,
   "id": "2595b757-36a2-47ea-a557-1013cc03cfc1",
   "metadata": {},
   "outputs": [
    {
     "name": "stdout",
     "output_type": "stream",
     "text": [
      "No formatting errors found in file ./datasets/training_file.jsonl\n"
     ]
    }
   ],
   "source": [
    "# check example format are correct for training file\n",
    "with open(training_data_file, \"r\", encoding=\"utf-8\") as f:\n",
    "    train_dataset = [json.loads(line) for line in f]\n",
    "    if not format_checks(train_dataset, training_data_file):\n",
    "        print(f\"Error in training examples format validation for {training_data_file}\")"
   ]
  },
  {
   "cell_type": "code",
   "execution_count": 48,
   "id": "99acf0c4-8957-46ed-9f30-95db1d41fb71",
   "metadata": {},
   "outputs": [
    {
     "name": "stdout",
     "output_type": "stream",
     "text": [
      "No formatting errors found in file ./datasets/validation_file.jsonl\n"
     ]
    }
   ],
   "source": [
    "# check example format are correct for validation file\n",
    "with open(validation_data_file, \"r\", encoding=\"utf-8\") as f:\n",
    "    valid_dataset = [json.loads(line) for line in f]\n",
    "    if not format_checks(valid_dataset, validation_data_file):\n",
    "        print(f\"Error in training examples format validation for {validation_data_file}\")"
   ]
  },
  {
   "cell_type": "markdown",
   "id": "df5973d6-114d-44fc-a107-84c3cebdfcb0",
   "metadata": {},
   "source": [
    "Fine tuning is billed by the `number of tokens` used in the training examples. Hence, it is always advisable to estimate the numbers tokens in the training examples and how many total tokens will be used in the fine-tuning. This will provide a rough estimate about the cost of the fine-tuning to avoid any surprises."
   ]
  },
  {
   "cell_type": "code",
   "execution_count": 49,
   "id": "d26561fb-e084-43c4-9caf-02b28640257a",
   "metadata": {},
   "outputs": [],
   "source": [
    "# Print the number of tokens in the messages\n",
    "def num_tokens_from_messages(messages, tokens_per_message=3, tokens_per_name=1):\n",
    "    num_tokens = 0\n",
    "    for message in messages:\n",
    "        num_tokens += tokens_per_message\n",
    "        for key, value in message.items():\n",
    "            num_tokens += len(encoding.encode(value))\n",
    "            if key == \"name\":\n",
    "                num_tokens += tokens_per_name\n",
    "    num_tokens += 3\n",
    "    return num_tokens\n",
    "\n",
    "# print the number of tokens in the assistant messages\n",
    "def num_assistant_tokens_from_messages(messages):\n",
    "    num_tokens = 0\n",
    "    for message in messages:\n",
    "        if message[\"role\"] == \"assistant\":\n",
    "            num_tokens += len(encoding.encode(message[\"content\"]))\n",
    "    return num_tokens\n"
   ]
  },
  {
   "cell_type": "code",
   "execution_count": 50,
   "id": "8c6d1b24-0a30-4ac2-94a2-63d4489fe0fa",
   "metadata": {},
   "outputs": [],
   "source": [
    "# Estimate the number of tokens that will be charged for during training\n",
    "def estimate_tokens(dataset, assistant_tokens):\n",
    "    # Set the initial number of epochs to the target epochs\n",
    "    n_epochs = TARGET_EPOCHS\n",
    "    \n",
    "    # Get the number of examples in the dataset\n",
    "    n_train_examples = len(dataset)\n",
    "\n",
    "    # If the examples total is less than the minimum target\n",
    "    # adjust the epochs to ensure we have enough examples for\n",
    "    # training\n",
    "    if n_train_examples * TARGET_EPOCHS < MIN_TARGET_EXAMPLES:\n",
    "        n_epochs = min(MAX_DEFAULT_EPOCHS, MIN_TARGET_EXAMPLES // n_train_examples)\n",
    "    \n",
    "    # If the  number of examples is more than the maximum target\n",
    "    # adjust the  epochs to ensure we don't exceed the maximum \n",
    "    # for training\n",
    "    elif n_train_examples * TARGET_EPOCHS > MAX_TARGET_EXAMPLES:\n",
    "        n_epochs = max(MIN_DEFAULT_EPOCHS, MAX_TARGET_EXAMPLES // n_train_examples)\n",
    "\n",
    "    # Calculate the total number of tokens in the dataset\n",
    "    # n_billing_tokens_in_dataset = sum(min(MAX_TOKENS, length) for length in assistant_tokens)\n",
    "    n_billing_tokens_in_dataset = sum(min(MAX_TOKENS, length) for length in assistant_tokens)\n",
    "\n",
    "    # Print the total token count that will be charged during training\n",
    "    print(f\"Dataset has ~{n_billing_tokens_in_dataset} tokens that will be charged for during training\")\n",
    "\n",
    "    # Print the default number of epochs for training\n",
    "    print(f\"You will train for {n_epochs} epochs on this dataset\")\n",
    "\n",
    "    # Print the total number of tokens that will be charged during training\n",
    "    print(f\"You will be charged for ~{n_epochs * n_billing_tokens_in_dataset} tokens\")\n",
    "\n",
    "    return n_billing_tokens_in_dataset"
   ]
  },
  {
   "cell_type": "code",
   "execution_count": 51,
   "id": "87a620c3-37f0-4626-aaf4-66e0a9b19e4a",
   "metadata": {},
   "outputs": [],
   "source": [
    "with open(training_data_file, \"r\", encoding=\"utf-8\") as f:\n",
    "    train_dataset = [json.loads(line) for line in f]\n",
    "with open(validation_data_file, \"r\", encoding=\"utf-8\") as f:\n",
    "    valid_dataset = [json.loads(line) for line in f]"
   ]
  },
  {
   "cell_type": "code",
   "execution_count": 52,
   "id": "3e767e92-e90d-49a8-9aa2-c1bca7f90adc",
   "metadata": {},
   "outputs": [],
   "source": [
    "total_tokens = []\n",
    "assistant_tokens = []\n",
    "for example in train_dataset:\n",
    "    messages = example.get(\"messages\", {})\n",
    "    total_tokens.append(num_tokens_from_messages(messages))\n",
    "    assistant_tokens.append(num_assistant_tokens_from_messages(messages))"
   ]
  },
  {
   "cell_type": "code",
   "execution_count": 53,
   "id": "40bfe173-93ee-49df-9529-5a6740c245fe",
   "metadata": {},
   "outputs": [
    {
     "name": "stdout",
     "output_type": "stream",
     "text": [
      "Dataset has ~77614 tokens that will be charged for during training\n",
      "You will train for 3 epochs on this dataset\n",
      "You will be charged for ~232842 tokens\n"
     ]
    }
   ],
   "source": [
    "tokens_used_in_training = estimate_tokens(train_dataset, total_tokens)"
   ]
  },
  {
   "cell_type": "code",
   "execution_count": 54,
   "id": "4e957153-7710-4103-aa39-7f9a189c067d",
   "metadata": {},
   "outputs": [
    {
     "name": "stdout",
     "output_type": "stream",
     "text": [
      "Estimated Cost: $ 0.698526\n"
     ]
    }
   ],
   "source": [
    "print(f\"Estimated Cost: $ {(3/1000000)*tokens_used_in_training*TARGET_EPOCHS}\")"
   ]
  },
  {
   "cell_type": "markdown",
   "id": "329030b1-d793-4a3c-92de-c711324ce75a",
   "metadata": {},
   "source": [
    "OpenAI doesnot charge for validation tokens, so only training tokens are charged. Current pricing is \\$3 per 1M tokens. For the above training dataset the estimated cost is `$0.7`"
   ]
  },
  {
   "cell_type": "markdown",
   "id": "10bee75c-c35a-48f6-aeff-57a033446aee",
   "metadata": {},
   "source": [
    "### 2. Upload training file to Open AI\n",
    "\n",
    "Open AI requires the training and validation file to be uploaded in OpenAI file storage for fine-tuning."
   ]
  },
  {
   "cell_type": "code",
   "execution_count": 55,
   "id": "4e765170-5f9c-4ea6-9765-49f9a07f35c1",
   "metadata": {},
   "outputs": [],
   "source": [
    "# get api key from file\n",
    "with open(\"../../../apikeys/openai-keys.json\", \"r\") as key_file:\n",
    "    api_key = json.load(key_file)[\"default_api_key\"]\n",
    "os.environ[\"OPENAI_API_KEY\"] = api_key"
   ]
  },
  {
   "cell_type": "code",
   "execution_count": 56,
   "id": "1d6f9896-9c71-42a2-9be8-db9c915c5dc2",
   "metadata": {},
   "outputs": [],
   "source": [
    "# Upload training file\n",
    "from openai import OpenAI\n",
    "client = OpenAI()\n",
    "\n",
    "response = client.files.create(\n",
    "  file=open(training_data_file, \"rb\"),\n",
    "  purpose=\"fine-tune\"\n",
    ")"
   ]
  },
  {
   "cell_type": "code",
   "execution_count": 57,
   "id": "17f71997-f71d-4a4c-9439-39a45e1670d0",
   "metadata": {},
   "outputs": [
    {
     "name": "stdout",
     "output_type": "stream",
     "text": [
      "Uploaded file details\n",
      " FileObject(id='file-EAbGaRrrcR6Us5n67fw3cN', bytes=393433, created_at=1738630964, filename='training_file.jsonl', object='file', purpose='fine-tune', status='processed', status_details=None)\n"
     ]
    }
   ],
   "source": [
    "print(\"Uploaded file details\\n\",response)"
   ]
  },
  {
   "cell_type": "code",
   "execution_count": 58,
   "id": "aa0e8769-dc3f-4ee6-a26f-0c3439977bc8",
   "metadata": {},
   "outputs": [
    {
     "name": "stdout",
     "output_type": "stream",
     "text": [
      "Uploaded file details\n",
      " FileObject(id='file-P6gV7ibG3H71QGDZKLVNbA', bytes=22048, created_at=1738631012, filename='validation_file.jsonl', object='file', purpose='fine-tune', status='processed', status_details=None)\n"
     ]
    }
   ],
   "source": [
    "# upload validation file\n",
    "validation_file_response = client.files.create(\n",
    "  file=open(validation_data_file, \"rb\"),\n",
    "  purpose=\"fine-tune\"\n",
    ")\n",
    "print(\"Uploaded file details\\n\",validation_file_response)"
   ]
  },
  {
   "cell_type": "markdown",
   "id": "df56717e-f99d-4958-800b-edbef48e08cd",
   "metadata": {},
   "source": [
    "### 3. Create and start Fine-tuning job"
   ]
  },
  {
   "cell_type": "code",
   "execution_count": 59,
   "id": "ac5c9e12-e219-4eef-a346-ea4134d551c3",
   "metadata": {},
   "outputs": [
    {
     "name": "stdout",
     "output_type": "stream",
     "text": [
      "Finetuning job details:\n",
      " FineTuningJob(id='ftjob-6b1KfEYfMDC9x1QHCp5KfxIA', created_at=1738631057, error=Error(code=None, message=None, param=None), fine_tuned_model=None, finished_at=None, hyperparameters=Hyperparameters(batch_size='auto', learning_rate_multiplier='auto', n_epochs=3), model='gpt-4o-mini-2024-07-18', object='fine_tuning.job', organization_id='org-i0HGnyzXyYOGEdOd7p2dDDri', result_files=[], seed=1329404520, status='validating_files', trained_tokens=None, training_file='file-EAbGaRrrcR6Us5n67fw3cN', validation_file='file-P6gV7ibG3H71QGDZKLVNbA', estimated_finish=None, integrations=[], method=Method(dpo=None, supervised=MethodSupervised(hyperparameters=MethodSupervisedHyperparameters(batch_size='auto', learning_rate_multiplier='auto', n_epochs=3)), type='supervised'), user_provided_suffix='mental-hlth-20250203')\n"
     ]
    }
   ],
   "source": [
    "ft_job = client.fine_tuning.jobs.create(\n",
    "    training_file=\"file-EAbGaRrrcR6Us5n67fw3cN\",\n",
    "    validation_file=\"file-P6gV7ibG3H71QGDZKLVNbA\",\n",
    "    model=\"gpt-4o-mini-2024-07-18\",\n",
    "    suffix=\"mental-hlth-20250203\",\n",
    "    hyperparameters={\n",
    "        \"n_epochs\":3\n",
    "    },\n",
    ")\n",
    "\n",
    "print(\"Finetuning job details:\\n\", ft_job)"
   ]
  },
  {
   "cell_type": "code",
   "execution_count": 60,
   "id": "94ba005a-227d-425d-b497-a0283e04b7d2",
   "metadata": {},
   "outputs": [
    {
     "name": "stdout",
     "output_type": "stream",
     "text": [
      "ftjob-6b1KfEYfMDC9x1QHCp5KfxIA validating_files\n",
      "ftjob-6b1KfEYfMDC9x1QHCp5KfxIA validating_files\n",
      "ftjob-6b1KfEYfMDC9x1QHCp5KfxIA running\n",
      "ftjob-6b1KfEYfMDC9x1QHCp5KfxIA running\n",
      "ftjob-6b1KfEYfMDC9x1QHCp5KfxIA running\n",
      "ftjob-6b1KfEYfMDC9x1QHCp5KfxIA running\n",
      "ftjob-6b1KfEYfMDC9x1QHCp5KfxIA running\n",
      "ftjob-6b1KfEYfMDC9x1QHCp5KfxIA running\n",
      "ftjob-6b1KfEYfMDC9x1QHCp5KfxIA running\n",
      "ftjob-6b1KfEYfMDC9x1QHCp5KfxIA running\n",
      "ftjob-6b1KfEYfMDC9x1QHCp5KfxIA running\n",
      "ftjob-6b1KfEYfMDC9x1QHCp5KfxIA running\n",
      "ftjob-6b1KfEYfMDC9x1QHCp5KfxIA running\n",
      "ftjob-6b1KfEYfMDC9x1QHCp5KfxIA running\n",
      "ftjob-6b1KfEYfMDC9x1QHCp5KfxIA running\n",
      "ftjob-6b1KfEYfMDC9x1QHCp5KfxIA running\n",
      "ftjob-6b1KfEYfMDC9x1QHCp5KfxIA running\n",
      "ftjob-6b1KfEYfMDC9x1QHCp5KfxIA running\n",
      "ftjob-6b1KfEYfMDC9x1QHCp5KfxIA running\n",
      "ftjob-6b1KfEYfMDC9x1QHCp5KfxIA running\n",
      "ftjob-6b1KfEYfMDC9x1QHCp5KfxIA running\n",
      "ftjob-6b1KfEYfMDC9x1QHCp5KfxIA running\n",
      "ftjob-6b1KfEYfMDC9x1QHCp5KfxIA running\n",
      "ftjob-6b1KfEYfMDC9x1QHCp5KfxIA running\n",
      "ftjob-6b1KfEYfMDC9x1QHCp5KfxIA running\n",
      "ftjob-6b1KfEYfMDC9x1QHCp5KfxIA running\n",
      "ftjob-6b1KfEYfMDC9x1QHCp5KfxIA running\n",
      "ftjob-6b1KfEYfMDC9x1QHCp5KfxIA running\n",
      "ftjob-6b1KfEYfMDC9x1QHCp5KfxIA running\n",
      "ftjob-6b1KfEYfMDC9x1QHCp5KfxIA running\n",
      "ftjob-6b1KfEYfMDC9x1QHCp5KfxIA running\n",
      "ftjob-6b1KfEYfMDC9x1QHCp5KfxIA succeeded\n",
      "Job Status: succeeded\n",
      "Elapsed time: 35 minutes 6 seconds\n"
     ]
    }
   ],
   "source": [
    "# Retrieve the state of a fine-tune\n",
    "start_time = time.time()\n",
    "while True:\n",
    "    job = client.fine_tuning.jobs.retrieve(\"ftjob-6b1KfEYfMDC9x1QHCp5KfxIA\")\n",
    "    print(job.id, job.status)\n",
    "    if job.status in [\"succeeded\",\"failed\",\"cancelled\"]:\n",
    "        print(f\"Job Status: {job.status}\")\n",
    "        print(\"Elapsed time: {} minutes {} seconds\".format(int((time.time() - start_time) // 60), int((time.time() - start_time) % 60)))\n",
    "        break\n",
    "    time.sleep(60)"
   ]
  },
  {
   "cell_type": "markdown",
   "id": "70221a49-498f-4653-98d4-c0acb819564c",
   "metadata": {},
   "source": [
    "Open AI fine tuning job stores the fine-tuning `metrics` in a result file. The file-id of the resut file can be reference by retriveing the job details in `result_files` attribute."
   ]
  },
  {
   "cell_type": "markdown",
   "id": "77f7922c-cd35-4988-a9e5-c3f1912fd6c9",
   "metadata": {},
   "source": [
    "### 4. Evaluate Metrics"
   ]
  },
  {
   "cell_type": "code",
   "execution_count": 61,
   "id": "64cde27a-70f9-4a6f-b187-1c26f52e3f2c",
   "metadata": {},
   "outputs": [
    {
     "name": "stdout",
     "output_type": "stream",
     "text": [
      "Model id: ft:gpt-4o-mini-2024-07-18:personal:mental-hlth-20250203:Ax2BrLIR\n",
      "Result file id: ['file-93TnAw74bNt7yZ4gaeWwBc']\n"
     ]
    }
   ],
   "source": [
    "#retrive the result file id and model name of the model\n",
    "result = client.fine_tuning.jobs.retrieve(\"ftjob-6b1KfEYfMDC9x1QHCp5KfxIA\")\n",
    "print(f\"Model id: {result.fine_tuned_model}\\nResult file id: {result.result_files}\")"
   ]
  },
  {
   "cell_type": "code",
   "execution_count": 62,
   "id": "4d73649c-f415-4913-b1d2-b82f98203901",
   "metadata": {},
   "outputs": [],
   "source": [
    "# Retrive file content from the fine tuning job results\n",
    "\n",
    "ft_results = client.files.content(result.result_files[0])"
   ]
  },
  {
   "cell_type": "markdown",
   "id": "6a4590e6-ae47-4c43-be08-e6d0882d00b4",
   "metadata": {},
   "source": [
    "The results are `base-64` encoded, so it needs to be decoded for use and can be downloaded as csv."
   ]
  },
  {
   "cell_type": "code",
   "execution_count": 63,
   "id": "08acc8dc-52d3-4d42-b159-36b89f5462cc",
   "metadata": {},
   "outputs": [],
   "source": [
    "import base64\n",
    "\n",
    "string_bytes = base64.b64decode(ft_results.content)\n",
    "result_string = string_bytes.decode(\"ascii\")\n",
    "\n",
    "with open(\"./fine-tuning-results.csv\",\"w\") as outfile:\n",
    "    outfile.write(result_string)\n"
   ]
  },
  {
   "cell_type": "markdown",
   "id": "6d73f0dc-fa44-4fe6-94b7-e18861bb9eb3",
   "metadata": {},
   "source": [
    "Using pandas to read the reslts csv file and plotting the training and validation loss curves"
   ]
  },
  {
   "cell_type": "code",
   "execution_count": 2,
   "id": "e0daed1c-f014-495a-b7c2-80d2b52c470d",
   "metadata": {},
   "outputs": [],
   "source": [
    "import pandas as pd\n",
    "from matplotlib import pyplot as plt"
   ]
  },
  {
   "cell_type": "code",
   "execution_count": 3,
   "id": "6e7a2308-4515-4aad-a7cc-1b0fb2530cee",
   "metadata": {},
   "outputs": [],
   "source": [
    "df = pd.read_csv(\"./fine-tuning-results.csv\")"
   ]
  },
  {
   "cell_type": "code",
   "execution_count": 4,
   "id": "23b2e7fb-6bc5-4072-9cc8-8ba459d65b55",
   "metadata": {
    "scrolled": true
   },
   "outputs": [
    {
     "data": {
      "text/html": [
       "<div>\n",
       "<style scoped>\n",
       "    .dataframe tbody tr th:only-of-type {\n",
       "        vertical-align: middle;\n",
       "    }\n",
       "\n",
       "    .dataframe tbody tr th {\n",
       "        vertical-align: top;\n",
       "    }\n",
       "\n",
       "    .dataframe thead th {\n",
       "        text-align: right;\n",
       "    }\n",
       "</style>\n",
       "<table border=\"1\" class=\"dataframe\">\n",
       "  <thead>\n",
       "    <tr style=\"text-align: right;\">\n",
       "      <th></th>\n",
       "      <th>step</th>\n",
       "      <th>train_loss</th>\n",
       "      <th>train_accuracy</th>\n",
       "      <th>valid_loss</th>\n",
       "      <th>valid_mean_token_accuracy</th>\n",
       "      <th>train_mean_reward</th>\n",
       "      <th>full_validation_mean_reward</th>\n",
       "    </tr>\n",
       "  </thead>\n",
       "  <tbody>\n",
       "    <tr>\n",
       "      <th>0</th>\n",
       "      <td>1</td>\n",
       "      <td>2.65326</td>\n",
       "      <td>0.43191</td>\n",
       "      <td>NaN</td>\n",
       "      <td>NaN</td>\n",
       "      <td>NaN</td>\n",
       "      <td>NaN</td>\n",
       "    </tr>\n",
       "    <tr>\n",
       "      <th>1</th>\n",
       "      <td>2</td>\n",
       "      <td>2.93224</td>\n",
       "      <td>0.42446</td>\n",
       "      <td>NaN</td>\n",
       "      <td>NaN</td>\n",
       "      <td>NaN</td>\n",
       "      <td>NaN</td>\n",
       "    </tr>\n",
       "    <tr>\n",
       "      <th>2</th>\n",
       "      <td>3</td>\n",
       "      <td>2.39931</td>\n",
       "      <td>0.46392</td>\n",
       "      <td>NaN</td>\n",
       "      <td>NaN</td>\n",
       "      <td>NaN</td>\n",
       "      <td>NaN</td>\n",
       "    </tr>\n",
       "    <tr>\n",
       "      <th>3</th>\n",
       "      <td>4</td>\n",
       "      <td>3.19634</td>\n",
       "      <td>0.42063</td>\n",
       "      <td>NaN</td>\n",
       "      <td>NaN</td>\n",
       "      <td>NaN</td>\n",
       "      <td>NaN</td>\n",
       "    </tr>\n",
       "    <tr>\n",
       "      <th>4</th>\n",
       "      <td>5</td>\n",
       "      <td>2.60203</td>\n",
       "      <td>0.51955</td>\n",
       "      <td>NaN</td>\n",
       "      <td>NaN</td>\n",
       "      <td>NaN</td>\n",
       "      <td>NaN</td>\n",
       "    </tr>\n",
       "  </tbody>\n",
       "</table>\n",
       "</div>"
      ],
      "text/plain": [
       "   step  train_loss  train_accuracy  valid_loss  valid_mean_token_accuracy  \\\n",
       "0     1     2.65326         0.43191         NaN                        NaN   \n",
       "1     2     2.93224         0.42446         NaN                        NaN   \n",
       "2     3     2.39931         0.46392         NaN                        NaN   \n",
       "3     4     3.19634         0.42063         NaN                        NaN   \n",
       "4     5     2.60203         0.51955         NaN                        NaN   \n",
       "\n",
       "   train_mean_reward  full_validation_mean_reward  \n",
       "0                NaN                          NaN  \n",
       "1                NaN                          NaN  \n",
       "2                NaN                          NaN  \n",
       "3                NaN                          NaN  \n",
       "4                NaN                          NaN  "
      ]
     },
     "execution_count": 4,
     "metadata": {},
     "output_type": "execute_result"
    }
   ],
   "source": [
    "# display few records of fine-tuning results file\n",
    "df.head()"
   ]
  },
  {
   "cell_type": "markdown",
   "id": "56386832-29a0-4748-bf66-7b47e30f9c12",
   "metadata": {},
   "source": [
    "`Loss` is one of the primry metric that is used to evaluate the fine-tuning training and validation performance. Typically, Training loss is always high in the starting but it gradually reduces towards zero as the model trains on more data in every step of epochs. "
   ]
  },
  {
   "cell_type": "code",
   "execution_count": 5,
   "id": "04980c5f-3004-4f4f-a38a-c344989921fb",
   "metadata": {},
   "outputs": [
    {
     "data": {
      "image/png": "[encoded data removed]",
      "text/plain": [
       "<Figure size 640x480 with 1 Axes>"
      ]
     },
     "metadata": {},
     "output_type": "display_data"
    }
   ],
   "source": [
    "# Plot the training loss and validation loss\n",
    "plt.plot(df[\"step\"], df[\"train_loss\"], 'b-', label='Training loss')\n",
    "plt.plot(df[df[\"valid_loss\"].notna()][\"step\"], df[df[\"valid_loss\"].notna()][\"valid_loss\"], 'c-', label='Validation loss')\n",
    "plt.title('Training/Validation Loss of Fine-Tuning')\n",
    "plt.xlabel('Steps')\n",
    "plt.ylabel('Loss')\n",
    "plt.legend()\n",
    "plt.show()\n"
   ]
  },
  {
   "cell_type": "markdown",
   "id": "13b2a3bd-3c5c-4f1d-b04b-59ebb3e82a4b",
   "metadata": {},
   "source": [
    "As expected, the `training loss` is high at the staring and decreasing towards a low value over time. We see some difference between the `validation loss` and `training loss` towards the end of the epochs which shows that training loss is decreasing but validation loss remains stable which indicates `some degree of overfitting`. Furthermore, both the training loss and validation loss have fluctuation with every batch of training steps which is fine because it demonstartes the loss is varying with the varying sets of data in every batch and the model weights are not too much overfitted. "
   ]
  },
  {
   "cell_type": "markdown",
   "id": "026f8534-41a5-4c66-8cd8-8d6cbe1a07ba",
   "metadata": {},
   "source": [
    "`Mean token acuracy` metric ia a measure of how accurately the model is able to predict the next token in sequencen on an average. "
   ]
  },
  {
   "cell_type": "code",
   "execution_count": 22,
   "id": "70b84cd4-bfc3-4b37-91f8-02a5972ce4e5",
   "metadata": {},
   "outputs": [
    {
     "data": {
      "image/png": "[encoded data removed]",
      "text/plain": [
       "<Figure size 640x480 with 1 Axes>"
      ]
     },
     "metadata": {},
     "output_type": "display_data"
    }
   ],
   "source": [
    "# plot the Mean Token accuracy\n",
    "plt.plot(df[\"step\"], df[\"train_accuracy\"], 'b-', label='Training Acc')\n",
    "plt.plot(df[df[\"valid_mean_token_accuracy\"].notna()][\"step\"], df[df[\"valid_mean_token_accuracy\"].notna()][\"valid_mean_token_accuracy\"], 'c-', label='Mean Token Validation Acc')\n",
    "plt.title('Validation Mean Token Accuracy - Fine Tuning')\n",
    "plt.xlabel('Steps')\n",
    "plt.ylabel('Accuracy')\n",
    "plt.legend(loc='lower right')\n",
    "\n",
    "plt.show()"
   ]
  },
  {
   "cell_type": "markdown",
   "id": "619a56b5-bd38-4a33-a53d-e6a610e6969b",
   "metadata": {},
   "source": [
    "The maximum `mean token accuracy` reached is $0.6$ for the validation file, whereas the training accuracy recahed more than $0.9$ by the end of training epochs. This shows that model is suffering from some overfitting because the trainig accuracy increased over time but the validation mean token accuracy remains appproximately same."
   ]
  },
  {
   "cell_type": "markdown",
   "id": "e1020fa7-c90e-4327-9762-47973e02e696",
   "metadata": {},
   "source": [
    "### 5. Testing the fine tuned model"
   ]
  },
  {
   "cell_type": "markdown",
   "id": "835a00dd-971f-4f38-91ca-661c42ddcde2",
   "metadata": {},
   "source": [
    "Prompt 1: Feeling hopeless and anxious, how can I help myself"
   ]
  },
  {
   "cell_type": "code",
   "execution_count": 26,
   "id": "c8953a7c-38e4-4d8f-8f44-e5a17a9ed9b1",
   "metadata": {},
   "outputs": [],
   "source": [
    "# get api key from file\n",
    "with open(\"../../../apikeys/openai-keys.json\", \"r\") as key_file:\n",
    "    api_key = json.load(key_file)[\"default_api_key\"]\n",
    "os.environ[\"OPENAI_API_KEY\"] = api_key"
   ]
  },
  {
   "cell_type": "code",
   "execution_count": 27,
   "id": "6b608d71-520b-4de3-b4a2-01abe1064d69",
   "metadata": {},
   "outputs": [],
   "source": [
    "from openai import OpenAI\n",
    "client = OpenAI()"
   ]
  },
  {
   "cell_type": "code",
   "execution_count": 30,
   "id": "ebfc61a1-c8a6-4053-bade-1bec22a37453",
   "metadata": {},
   "outputs": [],
   "source": [
    "messages=[\n",
    "        {\n",
    "            \"role\": \"system\", \n",
    "            \"content\": f\"You are an assistant that helps answer mental health question.\"\n",
    "        },\n",
    "        {\n",
    "            \"role\": \"user\", \n",
    "            \"content\": f\"Feeling hopeless and anxious, how can I help myself\"\n",
    "        }\n",
    "    ]"
   ]
  },
  {
   "cell_type": "code",
   "execution_count": 31,
   "id": "87770a71-d01f-40a1-8ab3-be64c0902e73",
   "metadata": {},
   "outputs": [
    {
     "name": "stdout",
     "output_type": "stream",
     "text": [
      "Response from fine-tuned model:\n",
      " Feeling hopeless is indicative of depressive symptoms. Some self-help strategies for depression include:Increasing pleasant activity: having a daily schedule that includes activities that are helpful to you and that you find enjoyable or pleasurableEngaging in social activity: connecting with friends and family, or a group of people who share similar interests. Increasing interpersonal engagement can help to mitigate feelings of sadnessIncorporating exercise into your routine: exercise is a natural mood booster, and can also serve as a healthy way to cope with stress. Intentional walking can be helpful in alleviating depressive symptomsPracticing self-care: physical self-care (getting enough sleep, eating nutritious food, etc.) and emotional and spiritual self-care (engaging in the activities and hobbies that you enjoy, etc.) are critical components of improving one’s mood.Challenging negative thinking: cognitive distortions such as catastrophizing, overgeneralizing, and black-and-white thinking can further exacerbate depressive thoughts. Thought records and other cognitive-behavioral techniques can help with challenging negative thinking.\n"
     ]
    }
   ],
   "source": [
    "chat_response_1_fine_tuned = client.chat.completions.create(\n",
    "    model=\"ft:gpt-4o-mini-2024-07-18:personal:mental-hlth-20250203:Ax2BrLIR\",\n",
    "    messages=messages\n",
    ")\n",
    "print(f\"Response from fine-tuned model:\\n {chat_response_1_fine_tuned.choices[0].message.content}\")"
   ]
  },
  {
   "cell_type": "markdown",
   "id": "9d321539-75bb-44d7-9c7a-d9ca558002ce",
   "metadata": {},
   "source": [
    "Prompt 2: Feeling like hurting someone, need help"
   ]
  },
  {
   "cell_type": "code",
   "execution_count": 32,
   "id": "b57c674c-66a5-4f36-a888-5aad34cafeda",
   "metadata": {},
   "outputs": [],
   "source": [
    "messages=[\n",
    "        {\n",
    "            \"role\": \"system\", \n",
    "            \"content\": f\"You are an assistant that helps answer mental health question.\"\n",
    "        },\n",
    "        {\n",
    "            \"role\": \"user\", \n",
    "            \"content\": f\"Feeling like hurting someone, need help\"\n",
    "        }\n",
    "    ]"
   ]
  },
  {
   "cell_type": "code",
   "execution_count": 33,
   "id": "9b35c692-f66e-480f-8399-aab42b73c372",
   "metadata": {},
   "outputs": [
    {
     "name": "stdout",
     "output_type": "stream",
     "text": [
      "Response from fine-tuned model:\n",
      " Yes, ask for help right away. Call your local crisis center, or the national hotline at 1-800-273-8255.\n"
     ]
    }
   ],
   "source": [
    "chat_response_2_fine_tuned = client.chat.completions.create(\n",
    "    model=\"ft:gpt-4o-mini-2024-07-18:personal:mental-hlth-20250203:Ax2BrLIR\",\n",
    "    messages=messages\n",
    ")\n",
    "print(f\"Response from fine-tuned model:\\n {chat_response_2_fine_tuned.choices[0].message.content}\")"
   ]
  },
  {
   "cell_type": "markdown",
   "id": "a190c159-cfe2-43a3-a59d-f37e7ba7faf9",
   "metadata": {},
   "source": [
    "   "
   ]
  },
  {
   "cell_type": "markdown",
   "id": "f57be6e0-1f35-4080-a8ea-1e620c266ccb",
   "metadata": {},
   "source": [
    "The resonses from the fine-tuned model for mental health questions are very promising. The fine-tuned model is suggesting remediation strategies and helpful steps to support mental health situations whenever it is reasonable to do so. It is interesting to notice that the fine-tuned model response directly mentions to `call crisis hotline` instead of making up some answer in dire situations as in case of prompt 2. Overall the fine-tuning results are satisfactory demonstrates that the fine-tuned model and can be used in the `SerenityBot` application which can answer mental health questions."
   ]
  },
  {
   "cell_type": "code",
   "execution_count": null,
   "id": "2d7495a3-6fdf-443b-86ee-71fabc58a4c6",
   "metadata": {},
   "outputs": [],
   "source": []
  }
 ],
 "metadata": {
  "kernelspec": {
   "display_name": "Python 3 (ipykernel)",
   "language": "python",
   "name": "python3"
  },
  "language_info": {
   "codemirror_mode": {
    "name": "ipython",
    "version": 3
   },
   "file_extension": ".py",
   "mimetype": "text/x-python",
   "name": "python",
   "nbconvert_exporter": "python",
   "pygments_lexer": "ipython3",
   "version": "3.12.7"
  }
 },
 "nbformat": 4,
 "nbformat_minor": 5
}
